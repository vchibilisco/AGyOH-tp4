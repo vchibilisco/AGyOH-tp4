{
  "nbformat": 4,
  "nbformat_minor": 0,
  "metadata": {
    "colab": {
      "name": "Normalizacion.ipynb",
      "provenance": [],
      "collapsed_sections": [],
      "mount_file_id": "1U9yhro_62LblkW4QbeA5rrug_oJZ0sy8",
      "authorship_tag": "ABX9TyNMaIu6dhzOTSiuwGCFyL5b",
      "include_colab_link": true
    },
    "kernelspec": {
      "name": "python3",
      "display_name": "Python 3"
    }
  },
  "cells": [
    {
      "cell_type": "markdown",
      "metadata": {
        "id": "view-in-github",
        "colab_type": "text"
      },
      "source": [
        "<a href=\"https://colab.research.google.com/github/vchibilisco/AGyOH-tp4/blob/minimzar-t/red_neuronal/Normalizacion.ipynb\" target=\"_parent\"><img src=\"https://colab.research.google.com/assets/colab-badge.svg\" alt=\"Open In Colab\"/></a>"
      ]
    },
    {
      "cell_type": "code",
      "metadata": {
        "id": "P5C-nBPxvQSF"
      },
      "source": [
        "import numpy\n",
        "import matplotlib.pyplot as plt\n",
        "import copy"
      ],
      "execution_count": 1,
      "outputs": []
    },
    {
      "cell_type": "code",
      "metadata": {
        "id": "XHv9zYu48xX8",
        "colab": {
          "base_uri": "https://localhost:8080/",
          "height": 726
        },
        "outputId": "2d344096-db1e-4531-af6e-3228877c6c7b"
      },
      "source": [
        "input_layer = 3\n",
        "output_layer = 1\n",
        "#Ejemplo precio de casas basado en m2\n",
        "\n",
        "# 100m2 , 1c, $10000\n",
        "# 150m2 , 1c, $13000\n",
        "# 200m2 , 2c, $15000\n",
        "# 230m2 , 3c, $18000\n",
        "# 235m2 , 3c, $19000\n",
        "# 250m2 , 2c, $25000\n",
        "# 330m2 , 3c, $45000\n",
        "\n",
        "# Definir X\n",
        "X = numpy.array([\n",
        "     [100, 1],\n",
        "     [150, 1],\n",
        "     [200, 2],\n",
        "     [230, 3],\n",
        "     [235, 3],\n",
        "     [250, 2],\n",
        "     [330, 3],\n",
        "], dtype=float)\n",
        "print(X)\n",
        "# Definir Y\n",
        "Y = numpy.array([\n",
        "     10000,\n",
        "     13000,\n",
        "     15000,\n",
        "     18000,\n",
        "     19000,\n",
        "     25000,\n",
        "     45000\n",
        "])\n",
        "\n",
        "# Definir W: cantidad de caracteristicas + 1\n",
        "wn1 = numpy.array([numpy.random.rand(\n",
        "    numpy.size(X,1) + 1\n",
        ")])\n",
        "\n",
        "wn2 = numpy.array([numpy.random.rand(\n",
        "    numpy.size(X,1) + 1\n",
        ")])\n",
        "\n",
        "wn3 = numpy.array([numpy.random.rand(\n",
        "    numpy.size(X,1) + 1\n",
        ")])\n",
        "\n",
        "WIL = numpy.append(wn1, wn2, axis=0)\n",
        "WIL = numpy.append(WIL, wn3, axis=0)\n",
        "print('WIL.shape')\n",
        "print(WIL.shape)\n",
        "\n",
        "\n",
        "WOL = numpy.array([numpy.random.rand(\n",
        "    input_layer + 1\n",
        ")])\n",
        "print('WOL.shape')\n",
        "print(WOL.shape)\n",
        "\n",
        "plt.plot(X[:,0], Y[:])\n",
        "plt.ylabel('Precio')\n",
        "plt.xlabel('Metros cuadrados')\n",
        "plt.show()\n",
        "\n",
        "plt.plot(X[:,1], Y[:])\n",
        "plt.ylabel('Precio')\n",
        "plt.xlabel('Cantidad de Cuartos')\n",
        "plt.show()"
      ],
      "execution_count": 2,
      "outputs": [
        {
          "output_type": "stream",
          "text": [
            "[[100.   1.]\n",
            " [150.   1.]\n",
            " [200.   2.]\n",
            " [230.   3.]\n",
            " [235.   3.]\n",
            " [250.   2.]\n",
            " [330.   3.]]\n",
            "WIL.shape\n",
            "(3, 3)\n",
            "WOL.shape\n",
            "(1, 4)\n"
          ],
          "name": "stdout"
        },
        {
          "output_type": "display_data",
          "data": {
            "image/png": "[encoded data removed]",
            "text/plain": [
              "<Figure size 432x288 with 1 Axes>"
            ]
          },
          "metadata": {
            "tags": [],
            "needs_background": "light"
          }
        },
        {
          "output_type": "display_data",
          "data": {
            "image/png": "[encoded data removed]",
            "text/plain": [
              "<Figure size 432x288 with 1 Axes>"
            ]
          },
          "metadata": {
            "tags": [],
            "needs_background": "light"
          }
        }
      ]
    },
    {
      "cell_type": "code",
      "metadata": {
        "id": "EZfX_0SXvXFY"
      },
      "source": [
        "def layer(X, W, f_act):\n",
        "  arregloDeUnos = numpy.array(\n",
        "    numpy.ones(\n",
        "        (numpy.size(X,0),1),\n",
        "        dtype=int\n",
        "        )\n",
        "  )\n",
        "  X_red = numpy.append(arregloDeUnos, X, axis=1)\n",
        "\n",
        "  X_transpuesta = X_red.transpose()\n",
        "\n",
        "  z = numpy.matmul(W, X_transpuesta)\n",
        "  \n",
        "  a = f_act(z)\n",
        "  return a"
      ],
      "execution_count": 3,
      "outputs": []
    },
    {
      "cell_type": "code",
      "metadata": {
        "id": "JVqxlvYx8pyg"
      },
      "source": [
        "def neurona(X, W):\n",
        "  arregloDeUnos = numpy.array(\n",
        "    numpy.ones(\n",
        "        (numpy.size(X,0),1),\n",
        "        dtype=int\n",
        "        )\n",
        "  )\n",
        "  X_red = numpy.append(arregloDeUnos, X, axis=1)\n",
        "\n",
        "  X_transpuesta = X_red.transpose()\n",
        "\n",
        "  z = numpy.matmul(W, X_transpuesta)\n",
        "  return z"
      ],
      "execution_count": 4,
      "outputs": []
    },
    {
      "cell_type": "code",
      "metadata": {
        "id": "5PzCbp4lwqDl"
      },
      "source": [
        "def sigmoid(x):\n",
        "  return 1/(1 + numpy.exp(-x))\n",
        "\n",
        "def lineal(x):\n",
        "  return x"
      ],
      "execution_count": 5,
      "outputs": []
    },
    {
      "cell_type": "code",
      "metadata": {
        "id": "NQJKe9AUvfdF"
      },
      "source": [
        "def cost(pred, Y):\n",
        "  m = len(Y)\n",
        "\n",
        "  diff = (pred - Y) ** 2\n",
        "\n",
        "  J = (1/(2 * m)) * numpy.sum(diff)\n",
        "  return J"
      ],
      "execution_count": 6,
      "outputs": []
    },
    {
      "cell_type": "code",
      "metadata": {
        "id": "vhybqUizwpWd",
        "colab": {
          "base_uri": "https://localhost:8080/"
        },
        "outputId": "16c54a40-287a-46c4-e112-e0ff9768fd0f"
      },
      "source": [
        "def estandarizar(X):\n",
        "  X_norm = copy.deepcopy(X)\n",
        "  sigma = numpy.std(X, axis=0)\n",
        "  mu = numpy.mean(X, axis=0)\n",
        "\n",
        "  max = numpy.size(X, axis=1)\n",
        "  i = 0\n",
        "\n",
        "  while i < max:\n",
        "    X_norm[:,i] = (X[:,i] - mu[i]) / sigma[i]\n",
        "    i = i + 1\n",
        "\n",
        "  return X_norm\n",
        "\n",
        "def normalizar(X):\n",
        "  X_norm = copy.deepcopy(X)\n",
        " \n",
        "  length = numpy.size(X, axis=1)\n",
        "  i = 0\n",
        "\n",
        "  # y = (x - min) / (max - min)\n",
        "  while i < length:\n",
        "    X_norm[:,i] = (X[:,i] - numpy.min(X[:,i])) / (numpy.max(X[:,i]) - numpy.min(X[:,i]) )\n",
        "    i = i + 1\n",
        "\n",
        "  return X_norm\n",
        "\n",
        "print(X)\n",
        "# estandarizar(X)\n",
        "normalizar(X)"
      ],
      "execution_count": 8,
      "outputs": [
        {
          "output_type": "stream",
          "text": [
            "[[100.   1.]\n",
            " [150.   1.]\n",
            " [200.   2.]\n",
            " [230.   3.]\n",
            " [235.   3.]\n",
            " [250.   2.]\n",
            " [330.   3.]]\n"
          ],
          "name": "stdout"
        },
        {
          "output_type": "execute_result",
          "data": {
            "text/plain": [
              "array([[0.        , 0.        ],\n",
              "       [0.2173913 , 0.        ],\n",
              "       [0.43478261, 0.5       ],\n",
              "       [0.56521739, 1.        ],\n",
              "       [0.58695652, 1.        ],\n",
              "       [0.65217391, 0.5       ],\n",
              "       [1.        , 1.        ]])"
            ]
          },
          "metadata": {
            "tags": []
          },
          "execution_count": 8
        }
      ]
    },
    {
      "cell_type": "code",
      "metadata": {
        "id": "up_SUOAYvy8e",
        "colab": {
          "base_uri": "https://localhost:8080/"
        },
        "outputId": "aad29fcc-caa1-4049-a241-5755ede58042"
      },
      "source": [
        "X_norm = normalizar(X)\n",
        "print(X_norm)\n",
        "salida_input_layer = layer(X, WIL, sigmoid)\n",
        "\n",
        "print(\"salida_input_layer\")\n",
        "print(salida_input_layer.shape)\n",
        "print(salida_input_layer)\n",
        "\n",
        "salida_output_layer = layer(salida_input_layer.transpose(), WOL, lineal)\n",
        "print(\"salida_output_layer\")\n",
        "print(salida_output_layer.shape)\n",
        "print(salida_output_layer)\n"
      ],
      "execution_count": 9,
      "outputs": [
        {
          "output_type": "stream",
          "text": [
            "[[0.         0.        ]\n",
            " [0.2173913  0.        ]\n",
            " [0.43478261 0.5       ]\n",
            " [0.56521739 1.        ]\n",
            " [0.58695652 1.        ]\n",
            " [0.65217391 0.5       ]\n",
            " [1.         1.        ]]\n",
            "salida_input_layer\n",
            "(3, 7)\n",
            "[[1. 1. 1. 1. 1. 1. 1.]\n",
            " [1. 1. 1. 1. 1. 1. 1.]\n",
            " [1. 1. 1. 1. 1. 1. 1.]]\n",
            "salida_output_layer\n",
            "(1, 7)\n",
            "[[1.9498427 1.9498427 1.9498427 1.9498427 1.9498427 1.9498427 1.9498427]]\n"
          ],
          "name": "stdout"
        }
      ]
    },
    {
      "cell_type": "code",
      "metadata": {
        "id": "HUTy6KUqwPGG",
        "colab": {
          "base_uri": "https://localhost:8080/"
        },
        "outputId": "c60dbcb4-a8e5-4bb0-b1af-924ee6a5909f"
      },
      "source": [
        "cost(salida_output_layer, Y)"
      ],
      "execution_count": 10,
      "outputs": [
        {
          "output_type": "execute_result",
          "data": {
            "text/plain": [
              "273459612.30208933"
            ]
          },
          "metadata": {
            "tags": []
          },
          "execution_count": 10
        }
      ]
    }
  ]
}